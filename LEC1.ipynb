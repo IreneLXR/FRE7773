{
 "cells": [
  {
   "cell_type": "markdown",
   "id": "a4ba008e",
   "metadata": {},
   "source": [
    "**Intro to Machine Learning & Deep Learning**  \n",
    "**09/03/2022**  \n",
    "Recap for Linux & create virtual environment on ubuntu: https://linuxopsys.com/topics/create-python-virtual-environment-on-ubuntu  "
   ]
  },
  {
   "cell_type": "code",
   "execution_count": 5,
   "id": "fc669b94",
   "metadata": {},
   "outputs": [
    {
     "name": "stdout",
     "output_type": "stream",
     "text": [
      "bye\n"
     ]
    }
   ],
   "source": [
    "access_to_amzn = False\n",
    "if (access_to_amzn):\n",
    "    print(\"watch rings of power\")\n",
    "else:\n",
    "    print(\"bye\")"
   ]
  }
 ],
 "metadata": {
  "kernelspec": {
   "display_name": "Python 3 (ipykernel)",
   "language": "python",
   "name": "python3"
  },
  "language_info": {
   "codemirror_mode": {
    "name": "ipython",
    "version": 3
   },
   "file_extension": ".py",
   "mimetype": "text/x-python",
   "name": "python",
   "nbconvert_exporter": "python",
   "pygments_lexer": "ipython3",
   "version": "3.8.10"
  }
 },
 "nbformat": 4,
 "nbformat_minor": 5
}
