{
 "cells": [
  {
   "cell_type": "markdown",
   "id": "a4ba008e",
   "metadata": {},
   "source": [
    "**Intro to Machine Learning & Deep Learning**  \n",
    "**09/03/2022**  \n",
    "Recap for Linux & create virtual environment on ubuntu: https://linuxopsys.com/topics/create-python-virtual-environment-on-ubuntu  \n",
    "Git command cheat sheet: https://education.github.com/git-cheat-sheet-education.pdf"
   ]
  }
 ],
 "metadata": {
  "kernelspec": {
   "display_name": "Python 3 (ipykernel)",
   "language": "python",
   "name": "python3"
  },
  "language_info": {
   "codemirror_mode": {
    "name": "ipython",
    "version": 3
   },
   "file_extension": ".py",
   "mimetype": "text/x-python",
   "name": "python",
   "nbconvert_exporter": "python",
   "pygments_lexer": "ipython3",
   "version": "3.8.10"
  }
 },
 "nbformat": 4,
 "nbformat_minor": 5
}
